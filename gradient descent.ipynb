{
 "cells": [
  {
   "cell_type": "markdown",
   "metadata": {},
   "source": [
    "## linear regression\n",
    "\n",
    "predict model:\n",
    "\n",
    "$f_{w,b}(x^{(i)})=wx^{(i)}+b$\n",
    "\n",
    "cost function:\n",
    "\n",
    "$J(\\mathbf{w},b)=\\frac{1}{2m}\\sum\\limits_{i=0}^{m-1}(f_{w,b}(x^{(i)})-y^{(i)})^2$\n"
   ]
  },
  {
   "cell_type": "markdown",
   "metadata": {},
   "source": [
    "## gradient descent\n",
    "\n",
    "$w=w-\\alpha\\frac{\\partial{J(w,b)}}{\\partial{w}}$\n",
    "\n",
    "$b=b-\\alpha\\frac{\\partial{J(w,b)}}{\\partial{b}}$\n",
    "\n",
    "Here, $\\alpha$ is learning rate. Next step, we need to calculate gradient.\n",
    "\n",
    "$$\n",
    "\\begin{align}\n",
    "\\frac{\\partial{J(w,b)}}{\\partial{w}}\n",
    "&=\\frac{\\partial}{\\partial{w}}(\\frac{1}{2m}\\sum\\limits_{i=0}^{m-1}(f_{w,b}(x^{(i)})-y^{(i)})^2)\\\\\n",
    "&=\\frac{1}{m}\\sum\\limits_{i=0}^{m-1}(f_{w,b}(x^{(i)})-y^{(i)})^2\\frac{\\partial}{\\partial{w}}f_{w,b}(x^{(i)})-y^{(i)})\\\\\n",
    "&=\\frac{1}{m}\\sum\\limits_{i=0}^{m-1}(f_{w,b}(x^{(i)})-y^{(i)})x^{(i)}\n",
    "\\end{align}\n",
    "$$\n",
    "\n",
    "We can easily get\n",
    "$$\\frac{\\partial{J(w,b)}}{\\partial{b}}=\\frac{1}{m}\\sum\\limits_{i=0}^{m-1}(f_{w,b}(x^{(i)})-y^{(i)})$$"
   ]
  },
  {
   "cell_type": "code",
   "execution_count": null,
   "metadata": {},
   "outputs": [],
   "source": [
    "def gradient_descent(x, y, w, b, cost_function):\n",
    "    \n",
    "    return w, b"
   ]
  }
 ],
 "metadata": {
  "kernelspec": {
   "display_name": "Python 3",
   "language": "python",
   "name": "python3"
  },
  "language_info": {
   "codemirror_mode": {
    "name": "ipython",
    "version": 3
   },
   "file_extension": ".py",
   "mimetype": "text/x-python",
   "name": "python",
   "nbconvert_exporter": "python",
   "pygments_lexer": "ipython3",
   "version": "3.8.2"
  }
 },
 "nbformat": 4,
 "nbformat_minor": 4
}
