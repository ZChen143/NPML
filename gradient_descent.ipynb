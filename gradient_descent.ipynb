{
 "cells": [
  {
   "cell_type": "code",
   "execution_count": 8,
   "metadata": {},
   "outputs": [],
   "source": [
    "import numpy as np"
   ]
  },
  {
   "cell_type": "markdown",
   "metadata": {},
   "source": [
    "## Gradient descent\n",
    "\n",
    "$$w=w-\\alpha\\frac{\\partial{J(w,b)}}{\\partial{w}}\\\\\n",
    "b=b-\\alpha\\frac{\\partial{J(w,b)}}{\\partial{w}}$$"
   ]
  },
  {
   "cell_type": "code",
   "execution_count": 14,
   "metadata": {},
   "outputs": [],
   "source": [
    "def gradient_descent(x, y, w, b, alpha, compute_gradient, cost_function, iter_num, _lambda=None):\n",
    "    \"\"\"\n",
    "    gradient descent\n",
    "    \n",
    "    Args:\n",
    "        x(ndarray): Shape(m,n), Boston house attributes\n",
    "        y(ndarray): Shape(m,), Median value of owner-occupied homes in $1000's\n",
    "        w(ndarray): Coefficient, Parameters of model\n",
    "        b(float): Intercept, Parameters of model\n",
    "        alpha(float): learning rate\n",
    "        compute_gradient: function, compute gradient\n",
    "        cost_function: function, compute cost\n",
    "        iter_num(int):\n",
    "    \"\"\"\n",
    "    J_history = []\n",
    "    \n",
    "    for i in range(iter_num):\n",
    "        dj_dw, dj_db = compute_gradient(x, y, w, b, _lambda)\n",
    "        w = w - alpha*dj_dw\n",
    "        b = b - alpha*dj_db\n",
    "        \n",
    "        cost = cost_function(x,y,w,b,_lambda)\n",
    "        J_history.append(cost)\n",
    "        \n",
    "        #print cost 1000 times\n",
    "        if i%100 == 0:\n",
    "            print(f\"Iteration {i:4}: Cost {float(J_history[-1]):8.2f}\")\n",
    "            \n",
    "        if len(J_history) > 2 and np.abs(J_history[-1]-J_history[-2]) < 1e-3:\n",
    "            break\n",
    "        \n",
    "    return w, b"
   ]
  }
 ],
 "metadata": {
  "kernelspec": {
   "display_name": "Python 3",
   "language": "python",
   "name": "python3"
  },
  "language_info": {
   "codemirror_mode": {
    "name": "ipython",
    "version": 3
   },
   "file_extension": ".py",
   "mimetype": "text/x-python",
   "name": "python",
   "nbconvert_exporter": "python",
   "pygments_lexer": "ipython3",
   "version": "3.8.2"
  }
 },
 "nbformat": 4,
 "nbformat_minor": 4
}
