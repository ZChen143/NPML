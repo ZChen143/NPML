{
 "cells": [
  {
   "cell_type": "code",
   "execution_count": 5,
   "metadata": {},
   "outputs": [],
   "source": [
    "import numpy as np"
   ]
  },
  {
   "cell_type": "markdown",
   "metadata": {},
   "source": [
    "## linear regression\n",
    "\n",
    "predict model:\n",
    "\n",
    "$$f_{w,b}(x^{(i)})=wx^{(i)}+b$$\n",
    "\n",
    "cost function:\n",
    "\n",
    "$$J(\\mathbf{w},b)=\\frac{1}{2m}\\sum\\limits_{i=0}^{m-1}(f_{w,b}(x^{(i)})-y^{(i)})^2$$\n",
    "\n"
   ]
  },
  {
   "cell_type": "code",
   "execution_count": 2,
   "metadata": {},
   "outputs": [],
   "source": [
    "def cost_function(x, y, w, b):\n",
    "    \"\"\"\n",
    "    Compute cost\n",
    "    \n",
    "    Args:\n",
    "        x(ndarray): Shape(m,n), Boston house attributes\n",
    "        y(ndarray): Shape(m,), Median value of owner-occupied homes in $1000's\n",
    "        w(ndarray): Coefficient, Parameters of model\n",
    "        b(float): Intercept, Parameters of model\n",
    "    \"\"\"\n",
    "    m = x.shape[0]\n",
    "    total_loss = 0\n",
    "    \n",
    "    for i in range(m):\n",
    "        total_loss += (np.dot(w,x[i]) + b - y[i])**2\n",
    "    total_loss /= (2*m)\n",
    "    \n",
    "    return total_loss"
   ]
  },
  {
   "cell_type": "markdown",
   "metadata": {},
   "source": [
    "## Gradient\n",
    "\n",
    "To get alculate the gradient\n",
    "\n",
    "$$\n",
    "\\begin{align}\n",
    "\\frac{\\partial{J(w,b)}}{\\partial{w}}\n",
    "&=\\frac{\\partial}{\\partial{w}}(\\frac{1}{2m}\\sum\\limits_{i=0}^{m-1}(f_{w,b}(x^{(i)})-y^{(i)})^2)\\\\\n",
    "&=\\frac{1}{m}\\sum\\limits_{i=0}^{m-1}(f_{w,b}(x^{(i)})-y^{(i)})^2\\frac{\\partial}{\\partial{w}}f_{w,b}(x^{(i)})-y^{(i)})\\\\\n",
    "&=\\frac{1}{m}\\sum\\limits_{i=0}^{m-1}(f_{w,b}(x^{(i)})-y^{(i)})x^{(i)}\n",
    "\\end{align}\n",
    "$$\n",
    "\n",
    "We can easily get\n",
    "$$\\frac{\\partial{J(w,b)}}{\\partial{b}}=\\frac{1}{m}\\sum\\limits_{i=0}^{m-1}(f_{w,b}(x^{(i)})-y^{(i)})$$"
   ]
  },
  {
   "cell_type": "code",
   "execution_count": 4,
   "metadata": {},
   "outputs": [],
   "source": [
    "def compute_gradient(x, y, w, b):\n",
    "    \"\"\"\n",
    "    Compute descent\n",
    "    \n",
    "    Args:\n",
    "        x(ndarray): Shape(m,n), Boston house attributes\n",
    "        y(ndarray): Shape(m,), Median value of owner-occupied homes in $1000's\n",
    "        w(ndarray): Coefficient, Parameters of model\n",
    "        b(float): Intercept, Parameters of model\n",
    "    \"\"\"\n",
    "    m = x.shape[0]\n",
    "    dj_dw = 0\n",
    "    dj_db = 0\n",
    "    for i in range(m):\n",
    "        dj_dw += (np.dot(w, x[i]) + b - y[i])*x[i]\n",
    "        dj_db += np.dot(w, x[i]) + b - y[i]\n",
    "    dj_dw /= m\n",
    "    dj_db /= m\n",
    "    return dj_dw, dj_db"
   ]
  }
 ],
 "metadata": {
  "kernelspec": {
   "display_name": "Python 3",
   "language": "python",
   "name": "python3"
  },
  "language_info": {
   "codemirror_mode": {
    "name": "ipython",
    "version": 3
   },
   "file_extension": ".py",
   "mimetype": "text/x-python",
   "name": "python",
   "nbconvert_exporter": "python",
   "pygments_lexer": "ipython3",
   "version": "3.8.2"
  }
 },
 "nbformat": 4,
 "nbformat_minor": 4
}
