{
 "cells": [
  {
   "cell_type": "code",
   "execution_count": 1,
   "metadata": {},
   "outputs": [],
   "source": [
    "import numpy as np\n",
    "\n",
    "def z_score(x):\n",
    "    #get how many parameters traindata has.\n",
    "    n = x[0].shape[0]\n",
    "    \n",
    "    for i in range(n):\n",
    "        mean = np.mean(x[:,i])\n",
    "        std = np.std(x[:,i])\n",
    "        \n",
    "        #z_score(x) = (x - x_mean)/x_sigmad\n",
    "        x[:,i] = (x[:,i]-mean)/std\n",
    "    return x"
   ]
  }
 ],
 "metadata": {
  "kernelspec": {
   "display_name": "Python 3",
   "language": "python",
   "name": "python3"
  },
  "language_info": {
   "codemirror_mode": {
    "name": "ipython",
    "version": 3
   },
   "file_extension": ".py",
   "mimetype": "text/x-python",
   "name": "python",
   "nbconvert_exporter": "python",
   "pygments_lexer": "ipython3",
   "version": "3.8.2"
  }
 },
 "nbformat": 4,
 "nbformat_minor": 4
}
